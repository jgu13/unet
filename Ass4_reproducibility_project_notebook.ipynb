{
  "nbformat": 4,
  "nbformat_minor": 0,
  "metadata": {
    "colab": {
      "name": "Ass4_reproducibility_project_notebook.ipynb",
      "provenance": [],
      "collapsed_sections": []
    },
    "kernelspec": {
      "name": "python3",
      "display_name": "Python 3"
    },
    "language_info": {
      "name": "python"
    }
  },
  "cells": [
    {
      "cell_type": "markdown",
      "source": [
        "# Ass4 Reproducibility miniproject\n",
        "Cloned repo from [zhixuhao's](https://github.com/zhixuhao) implementation of [unet](https://github.com/jgu13/unet)"
      ],
      "metadata": {
        "id": "WTlZjVxqK54F"
      }
    },
    {
      "cell_type": "code",
      "execution_count": 1,
      "metadata": {
        "colab": {
          "base_uri": "https://localhost:8080/"
        },
        "id": "8XYJkLoiXoxa",
        "outputId": "e4645a5d-5336-4681-a81e-4ed0e6a7cc70"
      },
      "outputs": [
        {
          "output_type": "stream",
          "name": "stdout",
          "text": [
            "Cloning into 'unet'...\n",
            "remote: Enumerating objects: 400, done.\u001b[K\n",
            "remote: Counting objects: 100% (3/3), done.\u001b[K\n",
            "remote: Compressing objects: 100% (3/3), done.\u001b[K\n",
            "remote: Total 400 (delta 0), reused 3 (delta 0), pack-reused 397\u001b[K\n",
            "Receiving objects: 100% (400/400), 44.92 MiB | 36.33 MiB/s, done.\n",
            "Resolving deltas: 100% (82/82), done.\n"
          ]
        }
      ],
      "source": [
        "!if [ -d 'unet' ]; then rm -r unet; fi\n",
        "!git clone https://github.com/jgu13/unet"
      ]
    },
    {
      "cell_type": "markdown",
      "source": [
        "## Load train, test images, and apply image augmentation"
      ],
      "metadata": {
        "id": "On4Kr3VuK5AX"
      }
    },
    {
      "cell_type": "code",
      "source": [
        "import numpy as np\n",
        "from unet.data import *\n",
        "from unet.model import *\n",
        "import os\n",
        "import io\n",
        "\n",
        "train_path = os.path.join(os.getcwd(), 'unet', 'data', 'membrane', 'train')\n",
        "test_path = os.path.join(os.getcwd(), 'unet', 'data', 'membrane', 'test')\n",
        "# y_train_path = os.path.join(os.getcwd(), 'unet', 'data', 'membrane', 'train','label')\n",
        "\n",
        "#image augmentation parameters passed to image generator as a dict. \n",
        "data_gen_args = dict(rotation_range=0.2,\n",
        "                    width_shift_range=0.05,\n",
        "                    height_shift_range=0.05,\n",
        "                    shear_range=0.05,\n",
        "                    zoom_range=0.05,\n",
        "                    horizontal_flip=True,\n",
        "                    fill_mode='nearest')\n",
        "\n",
        "train_gen = trainGenerator(2,train_path,'image','label',data_gen_args,save_to_dir = None)\n",
        "testGen = testGenerator(test_path)\n"
      ],
      "metadata": {
        "id": "3HXrmDc6ZAY6"
      },
      "execution_count": null,
      "outputs": []
    },
    {
      "cell_type": "markdown",
      "source": [
        "## Visualize image augmentation\n",
        "Save augmented images to data/membrane/train/reproduced_aug"
      ],
      "metadata": {
        "id": "p7Vtxz2KKy71"
      }
    },
    {
      "cell_type": "code",
      "source": [
        "reproduced_aug_path = os.path.join(os.getcwd(), 'unet', 'data', 'membrane', 'train', 'reproduced_aug')\n",
        "if not os.path.isdir(reproduced_test_path):\n",
        "  os.makedirs(reproduced_aug_path)\n",
        "\n",
        "myGen = trainGenerator(10, train_path,'image','label',data_gen_args,save_to_dir = reproduced_aug_path)\n",
        "#you will see 60 transformed images and their masks in data/membrane/train/aug\n",
        "num_batch = 3\n",
        "for i,batch in enumerate(myGen):\n",
        "    if(i >= num_batch):\n",
        "        break\n"
      ],
      "metadata": {
        "id": "Otgojj4BKyLF",
        "colab": {
          "base_uri": "https://localhost:8080/"
        },
        "outputId": "b02666fd-434d-468c-db4e-5800f1e0b5fb"
      },
      "execution_count": null,
      "outputs": [
        {
          "output_type": "stream",
          "name": "stdout",
          "text": [
            "Found 30 images belonging to 1 classes.\n",
            "Found 30 images belonging to 1 classes.\n"
          ]
        }
      ]
    },
    {
      "cell_type": "markdown",
      "source": [
        "## Build and fit a unet model \n",
        "The model is trained for 5 epochs.\n",
        "\n",
        "Accuracy close to 96%.\n",
        "\n",
        "Loss function for the training is basically just a binary crossentropy."
      ],
      "metadata": {
        "id": "WvTYV7-VQP8s"
      }
    },
    {
      "cell_type": "code",
      "source": [
        "model = unet()\n",
        "model_checkpoint = ModelCheckpoint('unet_membrane.hdf5', monitor='loss',verbose=1, save_best_only=True)\n",
        "model.fit_generator(train_gen,steps_per_epoch=1000,epochs=5,callbacks=[model_checkpoint])"
      ],
      "metadata": {
        "colab": {
          "base_uri": "https://localhost:8080/"
        },
        "id": "z95Ls53RQPxg",
        "outputId": "73681dab-9a57-4c2c-a63f-6508bb5375cb"
      },
      "execution_count": null,
      "outputs": [
        {
          "output_type": "stream",
          "name": "stderr",
          "text": [
            "/opt/conda/lib/python3.7/site-packages/ipykernel_launcher.py:3: UserWarning: `Model.fit_generator` is deprecated and will be removed in a future version. Please use `Model.fit`, which supports generators.\n",
            "  This is separate from the ipykernel package so we can avoid doing imports until\n"
          ]
        },
        {
          "output_type": "stream",
          "name": "stdout",
          "text": [
            "Found 30 images belonging to 1 classes.\n",
            "Found 30 images belonging to 1 classes.\n",
            "Epoch 1/5\n",
            "1000/1000 [==============================] - ETA: 0s - loss: 0.2463 - accuracy: 0.8910\n",
            "Epoch 1: loss improved from inf to 0.24630, saving model to unet_membrane.hdf5\n",
            "1000/1000 [==============================] - 529s 528ms/step - loss: 0.2463 - accuracy: 0.8910\n",
            "Epoch 2/5\n",
            "1000/1000 [==============================] - ETA: 0s - loss: 0.1604 - accuracy: 0.9296\n",
            "Epoch 2: loss improved from 0.24630 to 0.16038, saving model to unet_membrane.hdf5\n",
            "1000/1000 [==============================] - 529s 529ms/step - loss: 0.1604 - accuracy: 0.9296\n",
            "Epoch 3/5\n",
            "1000/1000 [==============================] - ETA: 0s - loss: 0.1342 - accuracy: 0.9411\n",
            "Epoch 3: loss improved from 0.16038 to 0.13417, saving model to unet_membrane.hdf5\n",
            "1000/1000 [==============================] - 528s 528ms/step - loss: 0.1342 - accuracy: 0.9411\n",
            "Epoch 4/5\n",
            "1000/1000 [==============================] - ETA: 0s - loss: 0.1146 - accuracy: 0.9498\n",
            "Epoch 4: loss improved from 0.13417 to 0.11463, saving model to unet_membrane.hdf5\n",
            "1000/1000 [==============================] - 527s 527ms/step - loss: 0.1146 - accuracy: 0.9498\n",
            "Epoch 5/5\n",
            "1000/1000 [==============================] - ETA: 0s - loss: 0.1007 - accuracy: 0.9560\n",
            "Epoch 5: loss improved from 0.11463 to 0.10069, saving model to unet_membrane.hdf5\n",
            "1000/1000 [==============================] - 526s 526ms/step - loss: 0.1007 - accuracy: 0.9560\n"
          ]
        },
        {
          "output_type": "execute_result",
          "data": {
            "text/plain": [
              "<keras.callbacks.History at 0x7f38c46d8f10>"
            ]
          },
          "metadata": {},
          "execution_count": 11
        }
      ]
    },
    {
      "cell_type": "markdown",
      "source": [
        "## Test images\n",
        "Save test results to data/membrane/reproduced_test"
      ],
      "metadata": {
        "id": "APuVXJRrRdV2"
      }
    },
    {
      "cell_type": "code",
      "source": [
        "reproduced_test_path = os.path.join(os.getcwd(), 'unet', 'data', 'membrane', 'reproduced_test')\n",
        "if not os.path.isdir(reproduced_test_path):\n",
        "  os.makedirs(reproduced_test_path)\n",
        "\n",
        "testGene = testGenerator(test_path)\n",
        "model = unet()\n",
        "model.load_weights(\"unet_membrane.hdf5\")\n",
        "results = model.predict_generator(testGene,30,verbose=1)\n",
        "saveResult(reproduced_test_path,results)"
      ],
      "metadata": {
        "id": "ZJ5QdEwKRSzn",
        "colab": {
          "base_uri": "https://localhost:8080/"
        },
        "outputId": "f4e94c6c-5812-4cf0-a789-b39913b3f46a"
      },
      "execution_count": 17,
      "outputs": [
        {
          "output_type": "stream",
          "name": "stderr",
          "text": [
            "/opt/conda/lib/python3.7/site-packages/keras/optimizer_v2/adam.py:105: UserWarning: The `lr` argument is deprecated, use `learning_rate` instead.\n",
            "  super(Adam, self).__init__(name, **kwargs)\n",
            "/opt/conda/lib/python3.7/site-packages/ipykernel_launcher.py:8: UserWarning: `Model.predict_generator` is deprecated and will be removed in a future version. Please use `Model.predict`, which supports generators.\n",
            "  \n"
          ]
        },
        {
          "output_type": "stream",
          "name": "stdout",
          "text": [
            "30/30 [==============================] - 3s 106ms/step\n"
          ]
        },
        {
          "output_type": "stream",
          "name": "stderr",
          "text": [
            "Lossy conversion from float32 to uint8. Range [0, 1]. Convert image to uint8 prior to saving to suppress this warning.\n",
            "Lossy conversion from float32 to uint8. Range [0, 1]. Convert image to uint8 prior to saving to suppress this warning.\n",
            "Lossy conversion from float32 to uint8. Range [0, 1]. Convert image to uint8 prior to saving to suppress this warning.\n",
            "Lossy conversion from float32 to uint8. Range [0, 1]. Convert image to uint8 prior to saving to suppress this warning.\n",
            "Lossy conversion from float32 to uint8. Range [0, 1]. Convert image to uint8 prior to saving to suppress this warning.\n",
            "Lossy conversion from float32 to uint8. Range [0, 1]. Convert image to uint8 prior to saving to suppress this warning.\n",
            "Lossy conversion from float32 to uint8. Range [0, 1]. Convert image to uint8 prior to saving to suppress this warning.\n",
            "Lossy conversion from float32 to uint8. Range [0, 1]. Convert image to uint8 prior to saving to suppress this warning.\n",
            "Lossy conversion from float32 to uint8. Range [0, 1]. Convert image to uint8 prior to saving to suppress this warning.\n",
            "Lossy conversion from float32 to uint8. Range [0, 1]. Convert image to uint8 prior to saving to suppress this warning.\n",
            "Lossy conversion from float32 to uint8. Range [0, 1]. Convert image to uint8 prior to saving to suppress this warning.\n",
            "Lossy conversion from float32 to uint8. Range [0, 1]. Convert image to uint8 prior to saving to suppress this warning.\n",
            "Lossy conversion from float32 to uint8. Range [0, 1]. Convert image to uint8 prior to saving to suppress this warning.\n",
            "Lossy conversion from float32 to uint8. Range [0, 1]. Convert image to uint8 prior to saving to suppress this warning.\n",
            "Lossy conversion from float32 to uint8. Range [0, 1]. Convert image to uint8 prior to saving to suppress this warning.\n",
            "Lossy conversion from float32 to uint8. Range [0, 1]. Convert image to uint8 prior to saving to suppress this warning.\n",
            "Lossy conversion from float32 to uint8. Range [0, 1]. Convert image to uint8 prior to saving to suppress this warning.\n",
            "Lossy conversion from float32 to uint8. Range [0, 1]. Convert image to uint8 prior to saving to suppress this warning.\n",
            "Lossy conversion from float32 to uint8. Range [0, 1]. Convert image to uint8 prior to saving to suppress this warning.\n",
            "Lossy conversion from float32 to uint8. Range [0, 1]. Convert image to uint8 prior to saving to suppress this warning.\n",
            "Lossy conversion from float32 to uint8. Range [0, 1]. Convert image to uint8 prior to saving to suppress this warning.\n",
            "Lossy conversion from float32 to uint8. Range [0, 1]. Convert image to uint8 prior to saving to suppress this warning.\n",
            "Lossy conversion from float32 to uint8. Range [0, 1]. Convert image to uint8 prior to saving to suppress this warning.\n",
            "Lossy conversion from float32 to uint8. Range [0, 1]. Convert image to uint8 prior to saving to suppress this warning.\n",
            "Lossy conversion from float32 to uint8. Range [0, 1]. Convert image to uint8 prior to saving to suppress this warning.\n",
            "Lossy conversion from float32 to uint8. Range [0, 1]. Convert image to uint8 prior to saving to suppress this warning.\n",
            "Lossy conversion from float32 to uint8. Range [0, 1]. Convert image to uint8 prior to saving to suppress this warning.\n",
            "Lossy conversion from float32 to uint8. Range [0, 1]. Convert image to uint8 prior to saving to suppress this warning.\n",
            "Lossy conversion from float32 to uint8. Range [0, 1]. Convert image to uint8 prior to saving to suppress this warning.\n",
            "Lossy conversion from float32 to uint8. Range [0, 1]. Convert image to uint8 prior to saving to suppress this warning.\n"
          ]
        }
      ]
    },
    {
      "cell_type": "markdown",
      "source": [
        "## Visualize segmentation results"
      ],
      "metadata": {
        "id": "eYBxsHagx3av"
      }
    },
    {
      "cell_type": "code",
      "source": [
        ""
      ],
      "metadata": {
        "id": "FSD0Km0_x4A6"
      },
      "execution_count": null,
      "outputs": []
    },
    {
      "cell_type": "markdown",
      "source": [
        "## Effects of hyperparameter on model performance"
      ],
      "metadata": {
        "id": "YFogFoS6yBpl"
      }
    },
    {
      "cell_type": "code",
      "source": [
        ""
      ],
      "metadata": {
        "id": "fRzgjtG9yBZZ"
      },
      "execution_count": null,
      "outputs": []
    },
    {
      "cell_type": "markdown",
      "source": [
        "## Ablation study"
      ],
      "metadata": {
        "id": "an3rNgvIyLCM"
      }
    },
    {
      "cell_type": "code",
      "source": [
        ""
      ],
      "metadata": {
        "id": "tQQGnkdjyOJ1"
      },
      "execution_count": null,
      "outputs": []
    }
  ]
}